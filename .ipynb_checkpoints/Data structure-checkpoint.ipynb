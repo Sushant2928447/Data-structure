{
 "cells": [
  {
   "cell_type": "code",
   "execution_count": 1,
   "id": "81e0194c-49d9-4639-9a77-d53f8e23d0c9",
   "metadata": {},
   "outputs": [],
   "source": [
    "#1- Write a code to count the number of vowels in a string."
   ]
  },
  {
   "cell_type": "code",
   "execution_count": 2,
   "id": "14871087-cee4-4f9a-a91a-a01ddaaed752",
   "metadata": {},
   "outputs": [
    {
     "name": "stdout",
     "output_type": "stream",
     "text": [
      "4\n"
     ]
    }
   ],
   "source": [
    "string = \"SushantKumar!\"\n",
    "vowels = \"aeiouAEIOU\"\n",
    "\n",
    "count = sum(string.count(vowel) for vowel in vowels)\n",
    "print(count)"
   ]
  },
  {
   "cell_type": "code",
   "execution_count": 3,
   "id": "06d434ac-75ff-42d6-8aec-5283ae258648",
   "metadata": {},
   "outputs": [],
   "source": [
    "#2 -Write a code to reverse a string"
   ]
  },
  {
   "cell_type": "code",
   "execution_count": 4,
   "id": "8a0760a8-3cd8-47da-a9b8-aaa54f78e161",
   "metadata": {},
   "outputs": [
    {
     "data": {
      "text/plain": [
       "'dlrow olleH'"
      ]
     },
     "execution_count": 4,
     "metadata": {},
     "output_type": "execute_result"
    }
   ],
   "source": [
    "str = \"Hello world\"\n",
    "str[::-1]"
   ]
  },
  {
   "cell_type": "code",
   "execution_count": 5,
   "id": "eefb53d8-a664-49a2-aec9-63f673ceb565",
   "metadata": {},
   "outputs": [],
   "source": [
    "#3- Write a code to check if a given string is a palindrome or not."
   ]
  },
  {
   "cell_type": "code",
   "execution_count": 6,
   "id": "b1e431db-4ade-4d4d-a0ba-e922f17683cd",
   "metadata": {},
   "outputs": [
    {
     "name": "stdout",
     "output_type": "stream",
     "text": [
      "Yes\n"
     ]
    }
   ],
   "source": [
    "def isPalindrome(s):\n",
    "\treturn s == s[::-1]\n",
    "\n",
    "\n",
    "# Driver code\n",
    "s = \"malayalam\"\n",
    "ans = isPalindrome(s)\n",
    "\n",
    "if ans:\n",
    "\tprint(\"Yes\")\n",
    "else:\n",
    "\tprint(\"No\")\n"
   ]
  },
  {
   "cell_type": "code",
   "execution_count": 7,
   "id": "39c5383a-0758-4774-a9b3-4f676333bff2",
   "metadata": {},
   "outputs": [
    {
     "name": "stdout",
     "output_type": "stream",
     "text": [
      "No\n"
     ]
    }
   ],
   "source": [
    "def ispalindrome(s):\n",
    "    return s==s[::-1]\n",
    "\n",
    "s = \"sushant\"\n",
    "ans = ispalindrome(s)\n",
    "\n",
    "if ans:\n",
    "    print(\"Yes\")\n",
    "else:\n",
    "    print(\"No\")"
   ]
  },
  {
   "cell_type": "code",
   "execution_count": 8,
   "id": "5359ef9e-5765-4861-b78e-498d15e64ec9",
   "metadata": {},
   "outputs": [],
   "source": [
    "#4- Write a code to check if two given strings are anagrams of each other.\n"
   ]
  },
  {
   "cell_type": "code",
   "execution_count": 9,
   "id": "ff18eddf-01d7-408f-9ee4-55761561f087",
   "metadata": {},
   "outputs": [
    {
     "name": "stdout",
     "output_type": "stream",
     "text": [
      "The strings are anagrams.\n"
     ]
    }
   ],
   "source": [
    "s1=(\"silent:\")\n",
    "s2=(\"listen:\")\n",
    "if(sorted(s1)==sorted(s2)):\n",
    "      print(\"The strings are anagrams.\")\n",
    "else:\n",
    "      print(\"The strings aren't anagrams.\")"
   ]
  },
  {
   "cell_type": "code",
   "execution_count": 78,
   "id": "c036ec17-c16b-4fab-b6cf-acf9b41427b1",
   "metadata": {},
   "outputs": [],
   "source": [
    "#5- Write a code to find all occurrence of a given substring within another strings.\n"
   ]
  },
  {
   "cell_type": "code",
   "execution_count": 79,
   "id": "13edd0c4-8a59-4acd-be40-6321161bd945",
   "metadata": {},
   "outputs": [
    {
     "name": "stdout",
     "output_type": "stream",
     "text": [
      "The original string is : I am a student at pwskills\n",
      "The substring to find : pwskills\n"
     ]
    },
    {
     "ename": "TypeError",
     "evalue": "'str' object is not callable",
     "output_type": "error",
     "traceback": [
      "\u001b[0;31m---------------------------------------------------------------------------\u001b[0m",
      "\u001b[0;31mTypeError\u001b[0m                                 Traceback (most recent call last)",
      "Cell \u001b[0;32mIn[79], line 17\u001b[0m\n\u001b[1;32m     14\u001b[0m res \u001b[38;5;241m=\u001b[39m [i \u001b[38;5;28;01mfor\u001b[39;00m i \u001b[38;5;129;01min\u001b[39;00m \u001b[38;5;28mrange\u001b[39m(\u001b[38;5;28mlen\u001b[39m(test_str)) \u001b[38;5;28;01mif\u001b[39;00m test_str\u001b[38;5;241m.\u001b[39mstartswith(test_sub, i)]\n\u001b[1;32m     16\u001b[0m \u001b[38;5;66;03m# printing result\u001b[39;00m\n\u001b[0;32m---> 17\u001b[0m \u001b[38;5;28mprint\u001b[39m(\u001b[38;5;124m\"\u001b[39m\u001b[38;5;124mThe start indices of the substrings are : \u001b[39m\u001b[38;5;124m\"\u001b[39m \u001b[38;5;241m+\u001b[39m \u001b[38;5;28;43mstr\u001b[39;49m\u001b[43m(\u001b[49m\u001b[43mres\u001b[49m\u001b[43m)\u001b[49m)\n",
      "\u001b[0;31mTypeError\u001b[0m: 'str' object is not callable"
     ]
    }
   ],
   "source": [
    "test_str = \"I am a student at pwskills\"\n",
    "\n",
    "# initializing substring\n",
    "test_sub = \"pwskills\"\n",
    "\n",
    "# printing original string\n",
    "print(\"The original string is : \" + test_str)\n",
    "\n",
    "# printing substring\n",
    "print(\"The substring to find : \" + test_sub)\n",
    "\n",
    "# using list comprehension + startswith()\n",
    "# All occurrences of substring in string\n",
    "res = [i for i in range(len(test_str)) if test_str.startswith(test_sub, i)]\n",
    "\n",
    "# printing result\n",
    "print(\"The start indices of the substrings are : \" + str(res))\n",
    "\n",
    "\n"
   ]
  },
  {
   "cell_type": "code",
   "execution_count": 13,
   "id": "30802170-ff03-4a82-81a1-81b850595e7d",
   "metadata": {},
   "outputs": [],
   "source": [
    "#6- Write a code to perform basic string compression using the count of repeated character"
   ]
  },
  {
   "cell_type": "code",
   "execution_count": 14,
   "id": "799308dc-9d45-4dd1-ae09-8d2567875826",
   "metadata": {},
   "outputs": [
    {
     "ename": "TypeError",
     "evalue": "'str' object is not callable",
     "output_type": "error",
     "traceback": [
      "\u001b[0;31m---------------------------------------------------------------------------\u001b[0m",
      "\u001b[0;31mTypeError\u001b[0m                                 Traceback (most recent call last)",
      "Cell \u001b[0;32mIn[14], line 18\u001b[0m\n\u001b[1;32m     15\u001b[0m    \u001b[38;5;28;01mreturn\u001b[39;00m res\n\u001b[1;32m     17\u001b[0m s \u001b[38;5;241m=\u001b[39m \u001b[38;5;124m\"\u001b[39m\u001b[38;5;124mabbbbbaaaaaaaaaaccccccdaaaab\u001b[39m\u001b[38;5;124m\"\u001b[39m\n\u001b[0;32m---> 18\u001b[0m \u001b[38;5;28mprint\u001b[39m(\u001b[43msolve\u001b[49m\u001b[43m(\u001b[49m\u001b[43ms\u001b[49m\u001b[43m)\u001b[49m)\n",
      "Cell \u001b[0;32mIn[14], line 10\u001b[0m, in \u001b[0;36msolve\u001b[0;34m(s)\u001b[0m\n\u001b[1;32m      8\u001b[0m       res \u001b[38;5;241m=\u001b[39m res \u001b[38;5;241m+\u001b[39m s[i \u001b[38;5;241m-\u001b[39m \u001b[38;5;241m1\u001b[39m]\n\u001b[1;32m      9\u001b[0m       \u001b[38;5;28;01mif\u001b[39;00m cnt \u001b[38;5;241m>\u001b[39m \u001b[38;5;241m1\u001b[39m:\n\u001b[0;32m---> 10\u001b[0m          res \u001b[38;5;241m+\u001b[39m\u001b[38;5;241m=\u001b[39m \u001b[38;5;28;43mstr\u001b[39;49m\u001b[43m(\u001b[49m\u001b[43mcnt\u001b[49m\u001b[43m)\u001b[49m\n\u001b[1;32m     11\u001b[0m       cnt \u001b[38;5;241m=\u001b[39m \u001b[38;5;241m1\u001b[39m\n\u001b[1;32m     12\u001b[0m res \u001b[38;5;241m=\u001b[39m res \u001b[38;5;241m+\u001b[39m s[\u001b[38;5;241m-\u001b[39m\u001b[38;5;241m1\u001b[39m]\n",
      "\u001b[0;31mTypeError\u001b[0m: 'str' object is not callable"
     ]
    }
   ],
   "source": [
    "def solve(s):\n",
    "   res = \"\"\n",
    "   cnt = 1\n",
    "   for i in range(1, len(s)):\n",
    "      if s[i - 1] == s[i]:\n",
    "         cnt += 1\n",
    "      else:\n",
    "         res = res + s[i - 1]\n",
    "         if cnt > 1:\n",
    "            res += str(cnt)\n",
    "         cnt = 1\n",
    "   res = res + s[-1]\n",
    "   if cnt > 1:\n",
    "      res += str(cnt)\n",
    "   return res\n",
    "\n",
    "s = \"abbbbbaaaaaaaaaaccccccdaaaab\"\n",
    "print(solve(s))"
   ]
  },
  {
   "cell_type": "code",
   "execution_count": 19,
   "id": "6a9016bf-79e0-4ea9-b77a-b7088d7cfa84",
   "metadata": {},
   "outputs": [],
   "source": [
    "#7 = Write a code to determine if a string has all unique character."
   ]
  },
  {
   "cell_type": "code",
   "execution_count": 20,
   "id": "ba2eb531-a328-406a-8a7b-f7458d7d3b67",
   "metadata": {},
   "outputs": [
    {
     "name": "stdout",
     "output_type": "stream",
     "text": [
      "True\n"
     ]
    }
   ],
   "source": [
    "import operator as op\n",
    "\n",
    "def isUniqueChars(string):\n",
    "\n",
    "\tfor i in string:\n",
    "\t\tif op.countOf(string, i) > 1:\n",
    "\t\t\treturn False\n",
    "\treturn True\n",
    "\n",
    "\n",
    "# driver code\n",
    "st = \"abcd\"\n",
    "print(isUniqueChars(st))\n",
    "# “abcd” doesn’t contain any duplicates. Hence the output is True."
   ]
  },
  {
   "cell_type": "code",
   "execution_count": 22,
   "id": "bab6e19d-c712-42b6-839a-6fb53395ca10",
   "metadata": {},
   "outputs": [
    {
     "name": "stdout",
     "output_type": "stream",
     "text": [
      "False\n"
     ]
    }
   ],
   "source": [
    "import operator as op\n",
    "\n",
    "def isUniqueChars(string):\n",
    "\n",
    "\tfor i in string:\n",
    "\t\tif op.countOf(string, i) > 1:\n",
    "\t\t\treturn False\n",
    "\treturn True\n",
    "\n",
    "\n",
    "# driver code\n",
    "st = \"abcad\"\n",
    "print(isUniqueChars(st))\n",
    "#\"abcad\" contains duplicate .Hence the output is false."
   ]
  },
  {
   "cell_type": "code",
   "execution_count": 23,
   "id": "0ad84be1-048c-4e82-bf29-b86fed530de0",
   "metadata": {},
   "outputs": [],
   "source": [
    "#8- Write a code to convert a given string to uppercase or lower case."
   ]
  },
  {
   "cell_type": "code",
   "execution_count": 24,
   "id": "94208124-506f-4998-8e93-415b2631c598",
   "metadata": {},
   "outputs": [],
   "source": [
    "text = \"Hello world\""
   ]
  },
  {
   "cell_type": "code",
   "execution_count": 25,
   "id": "9ec20569-5413-4ed8-ae56-95448176ae2e",
   "metadata": {},
   "outputs": [
    {
     "data": {
      "text/plain": [
       "'hello world'"
      ]
     },
     "execution_count": 25,
     "metadata": {},
     "output_type": "execute_result"
    }
   ],
   "source": [
    "text.lower()"
   ]
  },
  {
   "cell_type": "code",
   "execution_count": 26,
   "id": "1e58e637-5253-4039-a2a9-72c9e9ce075f",
   "metadata": {},
   "outputs": [
    {
     "data": {
      "text/plain": [
       "'HELLO WORLD'"
      ]
     },
     "execution_count": 26,
     "metadata": {},
     "output_type": "execute_result"
    }
   ],
   "source": [
    "text.upper()"
   ]
  },
  {
   "cell_type": "code",
   "execution_count": 27,
   "id": "85740337-4c93-4efc-90d0-d1b123619248",
   "metadata": {},
   "outputs": [],
   "source": [
    "#9- Write a code to count the number of words in a string."
   ]
  },
  {
   "cell_type": "code",
   "execution_count": 28,
   "id": "1a8ec0a6-615d-4a26-b907-bea68ff046af",
   "metadata": {},
   "outputs": [
    {
     "name": "stdout",
     "output_type": "stream",
     "text": [
      "Count of Words in the given Sentence: 5\n"
     ]
    }
   ],
   "source": [
    "countOfWords = len(\"Hello world,its a brightsunny day\".split())\n",
    "print(\"Count of Words in the given Sentence:\", countOfWords)"
   ]
  },
  {
   "cell_type": "code",
   "execution_count": 29,
   "id": "e5882243-490d-419e-be25-2f5f917cc4a5",
   "metadata": {},
   "outputs": [],
   "source": [
    "#10 - Write a code to concatenate two string without using the + operator."
   ]
  },
  {
   "cell_type": "code",
   "execution_count": 30,
   "id": "fe623589-0bf8-4cc5-adb2-7a854b324528",
   "metadata": {},
   "outputs": [],
   "source": [
    "str1 = \"Welcome\""
   ]
  },
  {
   "cell_type": "code",
   "execution_count": 31,
   "id": "bbc886f4-03c4-4023-8e56-4f29f1550b5c",
   "metadata": {},
   "outputs": [],
   "source": [
    "str2 = \"pwskills\""
   ]
  },
  {
   "cell_type": "code",
   "execution_count": 32,
   "id": "7fcd22d3-3e4c-4110-9289-00a1cef5158d",
   "metadata": {},
   "outputs": [
    {
     "name": "stdout",
     "output_type": "stream",
     "text": [
      "Welcome\n"
     ]
    }
   ],
   "source": [
    "print(str1)"
   ]
  },
  {
   "cell_type": "code",
   "execution_count": 33,
   "id": "cefd5557-8007-4d4d-9f4e-cd7ce87994c5",
   "metadata": {},
   "outputs": [
    {
     "name": "stdout",
     "output_type": "stream",
     "text": [
      "pwskills\n"
     ]
    }
   ],
   "source": [
    "print(str2)"
   ]
  },
  {
   "cell_type": "code",
   "execution_count": 34,
   "id": "89269623-2177-404b-8698-d83bf633b281",
   "metadata": {},
   "outputs": [],
   "source": [
    "concat = \" \".join([str1,str2])"
   ]
  },
  {
   "cell_type": "code",
   "execution_count": 35,
   "id": "5ff3b096-5723-47b2-8498-4172ce199bb8",
   "metadata": {},
   "outputs": [
    {
     "data": {
      "text/plain": [
       "'Welcome pwskills'"
      ]
     },
     "execution_count": 35,
     "metadata": {},
     "output_type": "execute_result"
    }
   ],
   "source": [
    "concat"
   ]
  },
  {
   "cell_type": "code",
   "execution_count": 36,
   "id": "e89258f3-23e6-4f8c-a6af-e4b8bb75947a",
   "metadata": {},
   "outputs": [],
   "source": [
    "#11- Write a code to remove all occurrence  of a specific element from a list."
   ]
  },
  {
   "cell_type": "code",
   "execution_count": 37,
   "id": "35fc9936-c6f3-4b05-904c-28e5a8dd9304",
   "metadata": {},
   "outputs": [],
   "source": [
    "lis= [1,2,True,(3+5j),'pwskills']"
   ]
  },
  {
   "cell_type": "code",
   "execution_count": 38,
   "id": "8584ed4b-d429-4ac8-b42f-cd0a57533812",
   "metadata": {},
   "outputs": [],
   "source": [
    "lis.remove('pwskills')"
   ]
  },
  {
   "cell_type": "code",
   "execution_count": 39,
   "id": "466886ef-d469-48f2-b86b-6cba083eb9f9",
   "metadata": {},
   "outputs": [
    {
     "data": {
      "text/plain": [
       "[1, 2, True, (3+5j)]"
      ]
     },
     "execution_count": 39,
     "metadata": {},
     "output_type": "execute_result"
    }
   ],
   "source": [
    "lis"
   ]
  },
  {
   "cell_type": "code",
   "execution_count": 40,
   "id": "9c91d166-b857-4173-8715-40e316ee7ee3",
   "metadata": {},
   "outputs": [],
   "source": [
    "#12- Implement a code to find the second largest number in a given list of integer."
   ]
  },
  {
   "cell_type": "code",
   "execution_count": 41,
   "id": "4bc60dc0-5c45-4aa5-ab4f-a5f708895052",
   "metadata": {},
   "outputs": [],
   "source": [
    "# Sorting the list and then print the secnd largest number.\n",
    "nums=[78,45,76,90,23,37,84]"
   ]
  },
  {
   "cell_type": "code",
   "execution_count": 42,
   "id": "7ba643b2-ed52-4c4b-a3df-7176edf7a85f",
   "metadata": {},
   "outputs": [],
   "source": [
    "nums.sort()"
   ]
  },
  {
   "cell_type": "code",
   "execution_count": 43,
   "id": "5ac313e6-9aee-419d-abf4-6dca809aa9e3",
   "metadata": {},
   "outputs": [
    {
     "data": {
      "text/plain": [
       "[23, 37, 45, 76, 78, 84, 90]"
      ]
     },
     "execution_count": 43,
     "metadata": {},
     "output_type": "execute_result"
    }
   ],
   "source": [
    "nums"
   ]
  },
  {
   "cell_type": "code",
   "execution_count": 44,
   "id": "08cfbb85-ad06-4bad-b942-4479de0611fd",
   "metadata": {},
   "outputs": [
    {
     "name": "stdout",
     "output_type": "stream",
     "text": [
      "second largest number is  84\n"
     ]
    }
   ],
   "source": [
    "print(\"second largest number is \",nums[-2])"
   ]
  },
  {
   "cell_type": "code",
   "execution_count": 45,
   "id": "ff45ca1b-4989-4532-824d-7ef4af525755",
   "metadata": {},
   "outputs": [],
   "source": [
    "#13- Create a code to count the occurrences of each element in a list and return a dictionary w"
   ]
  },
  {
   "cell_type": "code",
   "execution_count": 46,
   "id": "e0530304-bac3-4598-8579-7566f68c2299",
   "metadata": {},
   "outputs": [],
   "source": [
    "#Count the Frequency of Elements in a List.\n",
    "# input_list=[1,2,3,4,5,2,6,3,5,1,7,3,2]"
   ]
  },
  {
   "cell_type": "code",
   "execution_count": 47,
   "id": "f5e6cc0d-54be-4021-a66a-83ac925d368f",
   "metadata": {},
   "outputs": [],
   "source": [
    "def counter(input_list):\n",
    "    freq={}\n",
    "    for i in input_list:\n",
    "        freq[i]=freq.get(i,0)+1\n",
    "        print(i, freq[i])\n",
    "    return freq"
   ]
  },
  {
   "cell_type": "code",
   "execution_count": 48,
   "id": "a41ee7c8-5bf8-47a3-a40f-b55e98228d8b",
   "metadata": {},
   "outputs": [
    {
     "name": "stdout",
     "output_type": "stream",
     "text": [
      "1 1\n",
      "2 1\n",
      "3 1\n",
      "4 1\n",
      "5 1\n",
      "2 2\n",
      "6 1\n",
      "3 2\n",
      "5 2\n",
      "1 2\n",
      "7 1\n",
      "3 3\n",
      "2 3\n",
      "{1: 2, 2: 3, 3: 3, 4: 1, 5: 2, 6: 1, 7: 1}\n"
     ]
    }
   ],
   "source": [
    "print(counter([1,2,3,4,5,2,6,3,5,1,7,3,2]))"
   ]
  },
  {
   "cell_type": "code",
   "execution_count": 49,
   "id": "e699a0d1-a4b1-4f1b-ab1e-f305175676c5",
   "metadata": {},
   "outputs": [],
   "source": [
    "#14 -Write a code to reverse a list in-place without using an built-in reverse functions."
   ]
  },
  {
   "cell_type": "code",
   "execution_count": 50,
   "id": "b19b93f5-8ec7-4412-af38-f86f00924c7e",
   "metadata": {},
   "outputs": [],
   "source": [
    "grocery_list=[\"Milk\",\"orange\",1,2,3,True,2+4j,2.33]"
   ]
  },
  {
   "cell_type": "code",
   "execution_count": 51,
   "id": "2180af8f-0016-4359-935a-5cdb9fe03fa1",
   "metadata": {},
   "outputs": [
    {
     "data": {
      "text/plain": [
       "[2.33, (2+4j), True, 3, 2, 1, 'orange', 'Milk']"
      ]
     },
     "execution_count": 51,
     "metadata": {},
     "output_type": "execute_result"
    }
   ],
   "source": [
    "grocery_list[::-1]"
   ]
  },
  {
   "cell_type": "code",
   "execution_count": 52,
   "id": "cc32a53f-3c22-4b7f-b0e6-2299768e3853",
   "metadata": {},
   "outputs": [],
   "source": [
    "#15 - Implement a code to find and remove duplicates from a list while preserving the original order of elements."
   ]
  },
  {
   "cell_type": "code",
   "execution_count": 53,
   "id": "6249ad85-f00d-4216-bd3d-b37f68bdeed8",
   "metadata": {},
   "outputs": [],
   "source": [
    "list1= [1,2,3,4,5,6,3,8,4,7,5,1,2]\n",
    "result=[]"
   ]
  },
  {
   "cell_type": "code",
   "execution_count": 54,
   "id": "afca9586-91f1-4d87-aa69-5b6e83d2e11a",
   "metadata": {},
   "outputs": [],
   "source": [
    "for i in list1:\n",
    "    if i not in result:\n",
    "        result.append(i)"
   ]
  },
  {
   "cell_type": "code",
   "execution_count": 55,
   "id": "9e057038-c505-4e88-aa40-f8eaab1dc0d8",
   "metadata": {},
   "outputs": [
    {
     "name": "stdout",
     "output_type": "stream",
     "text": [
      "[1, 2, 3, 4, 5, 6, 8, 7]\n"
     ]
    }
   ],
   "source": [
    "print(result)"
   ]
  },
  {
   "cell_type": "code",
   "execution_count": 56,
   "id": "287b79b3-9ffd-458d-93c5-56cbd6209f73",
   "metadata": {},
   "outputs": [],
   "source": [
    "# 16 - Create a code to check if a given list is sorted (either in ascending or descending order) or not."
   ]
  },
  {
   "cell_type": "code",
   "execution_count": 57,
   "id": "c9f57580-f5ba-4ba1-9b40-97706760f64c",
   "metadata": {},
   "outputs": [],
   "source": [
    "numbers=[1,2,3,8,6,9,4]"
   ]
  },
  {
   "cell_type": "code",
   "execution_count": 58,
   "id": "c9b52e53-5761-4281-a04c-23a5fdb3160c",
   "metadata": {},
   "outputs": [
    {
     "data": {
      "text/plain": [
       "[1, 2, 3, 4, 6, 8, 9]"
      ]
     },
     "execution_count": 58,
     "metadata": {},
     "output_type": "execute_result"
    }
   ],
   "source": [
    "sorted(numbers)"
   ]
  },
  {
   "cell_type": "code",
   "execution_count": 59,
   "id": "a36a14bc-d8e9-4e4d-8bd5-d8b06852ec89",
   "metadata": {},
   "outputs": [],
   "source": [
    "Book_list=[\"Data Structure\",\"Algorithum\",\"web dev\"]"
   ]
  },
  {
   "cell_type": "code",
   "execution_count": 60,
   "id": "2c902dad-1c0e-43da-a1f7-e46ef7ef6865",
   "metadata": {},
   "outputs": [
    {
     "data": {
      "text/plain": [
       "['Algorithum', 'Data Structure', 'web dev']"
      ]
     },
     "execution_count": 60,
     "metadata": {},
     "output_type": "execute_result"
    }
   ],
   "source": [
    "sorted(Book_list)"
   ]
  },
  {
   "cell_type": "code",
   "execution_count": 61,
   "id": "8e0f218a-1a0d-45a4-bbc4-29651c8e18d8",
   "metadata": {},
   "outputs": [],
   "source": [
    "# 17 -Write a code to merge two sorted lists into a single sorted lists"
   ]
  },
  {
   "cell_type": "code",
   "execution_count": 84,
   "id": "4bcc6c7c-a57c-4ba7-ba66-719eb7e29fcd",
   "metadata": {},
   "outputs": [],
   "source": [
    "list1=[\"Apple\",\"Orange\",\"Banana\"]"
   ]
  },
  {
   "cell_type": "code",
   "execution_count": 85,
   "id": "3f791319-90d9-40b3-8cc9-478dcfaf4596",
   "metadata": {},
   "outputs": [
    {
     "data": {
      "text/plain": [
       "['Apple', 'Banana', 'Orange']"
      ]
     },
     "execution_count": 85,
     "metadata": {},
     "output_type": "execute_result"
    }
   ],
   "source": [
    "sorted(list1)"
   ]
  },
  {
   "cell_type": "code",
   "execution_count": 86,
   "id": "06af0057-6275-4595-9136-827025ed5494",
   "metadata": {},
   "outputs": [],
   "source": [
    "list2=[\"Potato\",\"Avacado\",\"Brinjal\"]"
   ]
  },
  {
   "cell_type": "code",
   "execution_count": 87,
   "id": "638d6ab5-18c7-44b7-b24d-949e91cbf436",
   "metadata": {},
   "outputs": [
    {
     "data": {
      "text/plain": [
       "['Avacado', 'Brinjal', 'Potato']"
      ]
     },
     "execution_count": 87,
     "metadata": {},
     "output_type": "execute_result"
    }
   ],
   "source": [
    "sorted(list2)"
   ]
  },
  {
   "cell_type": "code",
   "execution_count": 91,
   "id": "45bfe469-3dcb-4fa2-a5c4-596ec2894bfa",
   "metadata": {},
   "outputs": [],
   "source": [
    "list3=list1+list2"
   ]
  },
  {
   "cell_type": "code",
   "execution_count": 92,
   "id": "08e4fc9e-c9f7-49e0-86ca-aa32318dfa19",
   "metadata": {},
   "outputs": [],
   "source": [
    "list1 = [\"Apple\",\"Orange\",\"Banana\"]"
   ]
  },
  {
   "cell_type": "code",
   "execution_count": 93,
   "id": "aedace7d-9b18-4299-8127-6f2e9e65139b",
   "metadata": {},
   "outputs": [],
   "source": [
    "list2 = [\"Potato\",\"Avacado\",\"Brinjal\"]"
   ]
  },
  {
   "cell_type": "code",
   "execution_count": 94,
   "id": "49aca97b-dfc6-4605-8d6e-3c2522a2e63c",
   "metadata": {},
   "outputs": [],
   "source": [
    "list3 = [list1+list2]"
   ]
  },
  {
   "cell_type": "code",
   "execution_count": 95,
   "id": "385ac31e-e20e-442d-8cbb-c3d9d3e2d276",
   "metadata": {},
   "outputs": [
    {
     "name": "stdout",
     "output_type": "stream",
     "text": [
      "[['Apple', 'Orange', 'Banana', 'Potato', 'Avacado', 'Brinjal']]\n"
     ]
    }
   ],
   "source": [
    "print(list3)"
   ]
  },
  {
   "cell_type": "code",
   "execution_count": 98,
   "id": "64d22f4b-335d-413e-9736-20b65e363795",
   "metadata": {},
   "outputs": [
    {
     "data": {
      "text/plain": [
       "['3', 'i', 'l', 's', 't']"
      ]
     },
     "execution_count": 98,
     "metadata": {},
     "output_type": "execute_result"
    }
   ],
   "source": [
    "sorted ('list3')"
   ]
  },
  {
   "cell_type": "code",
   "execution_count": null,
   "id": "9c6526d2-56bf-4655-8930-814e08b6a0d4",
   "metadata": {},
   "outputs": [],
   "source": []
  }
 ],
 "metadata": {
  "kernelspec": {
   "display_name": "Python 3 (ipykernel)",
   "language": "python",
   "name": "python3"
  },
  "language_info": {
   "codemirror_mode": {
    "name": "ipython",
    "version": 3
   },
   "file_extension": ".py",
   "mimetype": "text/x-python",
   "name": "python",
   "nbconvert_exporter": "python",
   "pygments_lexer": "ipython3",
   "version": "3.10.8"
  }
 },
 "nbformat": 4,
 "nbformat_minor": 5
}
